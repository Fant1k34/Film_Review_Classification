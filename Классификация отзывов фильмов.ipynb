{
  "nbformat": 4,
  "nbformat_minor": 0,
  "metadata": {
    "kernelspec": {
      "display_name": "Python 3",
      "language": "python",
      "name": "python3"
    },
    "colab": {
      "name": "Классификация отзывов фильмов.ipynb\"",
      "provenance": [],
      "collapsed_sections": []
    },
    "widgets": {
      "application/vnd.jupyter.widget-state+json": {
        "9a864463a5cc474bb2bfc143c2f89ee0": {
          "model_module": "@jupyter-widgets/controls",
          "model_name": "HBoxModel",
          "model_module_version": "1.5.0",
          "state": {
            "_view_name": "HBoxView",
            "_dom_classes": [],
            "_model_name": "HBoxModel",
            "_view_module": "@jupyter-widgets/controls",
            "_model_module_version": "1.5.0",
            "_view_count": null,
            "_view_module_version": "1.5.0",
            "box_style": "",
            "layout": "IPY_MODEL_975468f1e3504cb7be9bb91c16225aef",
            "_model_module": "@jupyter-widgets/controls",
            "children": [
              "IPY_MODEL_de07285b92a5468bb2e5c8f86a63cb87",
              "IPY_MODEL_1258b7bf37724980b8afd87ba330b014",
              "IPY_MODEL_75676d409a2c4446a16b763f0820a165"
            ]
          }
        },
        "975468f1e3504cb7be9bb91c16225aef": {
          "model_module": "@jupyter-widgets/base",
          "model_name": "LayoutModel",
          "model_module_version": "1.2.0",
          "state": {
            "_view_name": "LayoutView",
            "grid_template_rows": null,
            "right": null,
            "justify_content": null,
            "_view_module": "@jupyter-widgets/base",
            "overflow": null,
            "_model_module_version": "1.2.0",
            "_view_count": null,
            "flex_flow": null,
            "width": null,
            "min_width": null,
            "border": null,
            "align_items": null,
            "bottom": null,
            "_model_module": "@jupyter-widgets/base",
            "top": null,
            "grid_column": null,
            "overflow_y": null,
            "overflow_x": null,
            "grid_auto_flow": null,
            "grid_area": null,
            "grid_template_columns": null,
            "flex": null,
            "_model_name": "LayoutModel",
            "justify_items": null,
            "grid_row": null,
            "max_height": null,
            "align_content": null,
            "visibility": null,
            "align_self": null,
            "height": null,
            "min_height": null,
            "padding": null,
            "grid_auto_rows": null,
            "grid_gap": null,
            "max_width": null,
            "order": null,
            "_view_module_version": "1.2.0",
            "grid_template_areas": null,
            "object_position": null,
            "object_fit": null,
            "grid_auto_columns": null,
            "margin": null,
            "display": null,
            "left": null
          }
        },
        "de07285b92a5468bb2e5c8f86a63cb87": {
          "model_module": "@jupyter-widgets/controls",
          "model_name": "HTMLModel",
          "model_module_version": "1.5.0",
          "state": {
            "_view_name": "HTMLView",
            "style": "IPY_MODEL_75067a09af744e10951c7282077e7747",
            "_dom_classes": [],
            "description": "",
            "_model_name": "HTMLModel",
            "placeholder": "​",
            "_view_module": "@jupyter-widgets/controls",
            "_model_module_version": "1.5.0",
            "value": "100%",
            "_view_count": null,
            "_view_module_version": "1.5.0",
            "description_tooltip": null,
            "_model_module": "@jupyter-widgets/controls",
            "layout": "IPY_MODEL_7f939ad7f60c40d6b8bda1761d04461f"
          }
        },
        "1258b7bf37724980b8afd87ba330b014": {
          "model_module": "@jupyter-widgets/controls",
          "model_name": "FloatProgressModel",
          "model_module_version": "1.5.0",
          "state": {
            "_view_name": "ProgressView",
            "style": "IPY_MODEL_e36ba4a152314c44998c0ee9fa1850eb",
            "_dom_classes": [],
            "description": "",
            "_model_name": "FloatProgressModel",
            "bar_style": "success",
            "max": 15,
            "_view_module": "@jupyter-widgets/controls",
            "_model_module_version": "1.5.0",
            "value": 15,
            "_view_count": null,
            "_view_module_version": "1.5.0",
            "orientation": "horizontal",
            "min": 0,
            "description_tooltip": null,
            "_model_module": "@jupyter-widgets/controls",
            "layout": "IPY_MODEL_c0aa785850de418db7499c45252a9867"
          }
        },
        "75676d409a2c4446a16b763f0820a165": {
          "model_module": "@jupyter-widgets/controls",
          "model_name": "HTMLModel",
          "model_module_version": "1.5.0",
          "state": {
            "_view_name": "HTMLView",
            "style": "IPY_MODEL_3dc259ba0b064cceb0ef92b8fc95410b",
            "_dom_classes": [],
            "description": "",
            "_model_name": "HTMLModel",
            "placeholder": "​",
            "_view_module": "@jupyter-widgets/controls",
            "_model_module_version": "1.5.0",
            "value": " 15/15 [05:56&lt;00:00, 24.94s/it]",
            "_view_count": null,
            "_view_module_version": "1.5.0",
            "description_tooltip": null,
            "_model_module": "@jupyter-widgets/controls",
            "layout": "IPY_MODEL_4f59c77e87934ac7b2b141fac94fe17d"
          }
        },
        "75067a09af744e10951c7282077e7747": {
          "model_module": "@jupyter-widgets/controls",
          "model_name": "DescriptionStyleModel",
          "model_module_version": "1.5.0",
          "state": {
            "_view_name": "StyleView",
            "_model_name": "DescriptionStyleModel",
            "description_width": "",
            "_view_module": "@jupyter-widgets/base",
            "_model_module_version": "1.5.0",
            "_view_count": null,
            "_view_module_version": "1.2.0",
            "_model_module": "@jupyter-widgets/controls"
          }
        },
        "7f939ad7f60c40d6b8bda1761d04461f": {
          "model_module": "@jupyter-widgets/base",
          "model_name": "LayoutModel",
          "model_module_version": "1.2.0",
          "state": {
            "_view_name": "LayoutView",
            "grid_template_rows": null,
            "right": null,
            "justify_content": null,
            "_view_module": "@jupyter-widgets/base",
            "overflow": null,
            "_model_module_version": "1.2.0",
            "_view_count": null,
            "flex_flow": null,
            "width": null,
            "min_width": null,
            "border": null,
            "align_items": null,
            "bottom": null,
            "_model_module": "@jupyter-widgets/base",
            "top": null,
            "grid_column": null,
            "overflow_y": null,
            "overflow_x": null,
            "grid_auto_flow": null,
            "grid_area": null,
            "grid_template_columns": null,
            "flex": null,
            "_model_name": "LayoutModel",
            "justify_items": null,
            "grid_row": null,
            "max_height": null,
            "align_content": null,
            "visibility": null,
            "align_self": null,
            "height": null,
            "min_height": null,
            "padding": null,
            "grid_auto_rows": null,
            "grid_gap": null,
            "max_width": null,
            "order": null,
            "_view_module_version": "1.2.0",
            "grid_template_areas": null,
            "object_position": null,
            "object_fit": null,
            "grid_auto_columns": null,
            "margin": null,
            "display": null,
            "left": null
          }
        },
        "e36ba4a152314c44998c0ee9fa1850eb": {
          "model_module": "@jupyter-widgets/controls",
          "model_name": "ProgressStyleModel",
          "model_module_version": "1.5.0",
          "state": {
            "_view_name": "StyleView",
            "_model_name": "ProgressStyleModel",
            "description_width": "",
            "_view_module": "@jupyter-widgets/base",
            "_model_module_version": "1.5.0",
            "_view_count": null,
            "_view_module_version": "1.2.0",
            "bar_color": null,
            "_model_module": "@jupyter-widgets/controls"
          }
        },
        "c0aa785850de418db7499c45252a9867": {
          "model_module": "@jupyter-widgets/base",
          "model_name": "LayoutModel",
          "model_module_version": "1.2.0",
          "state": {
            "_view_name": "LayoutView",
            "grid_template_rows": null,
            "right": null,
            "justify_content": null,
            "_view_module": "@jupyter-widgets/base",
            "overflow": null,
            "_model_module_version": "1.2.0",
            "_view_count": null,
            "flex_flow": null,
            "width": null,
            "min_width": null,
            "border": null,
            "align_items": null,
            "bottom": null,
            "_model_module": "@jupyter-widgets/base",
            "top": null,
            "grid_column": null,
            "overflow_y": null,
            "overflow_x": null,
            "grid_auto_flow": null,
            "grid_area": null,
            "grid_template_columns": null,
            "flex": null,
            "_model_name": "LayoutModel",
            "justify_items": null,
            "grid_row": null,
            "max_height": null,
            "align_content": null,
            "visibility": null,
            "align_self": null,
            "height": null,
            "min_height": null,
            "padding": null,
            "grid_auto_rows": null,
            "grid_gap": null,
            "max_width": null,
            "order": null,
            "_view_module_version": "1.2.0",
            "grid_template_areas": null,
            "object_position": null,
            "object_fit": null,
            "grid_auto_columns": null,
            "margin": null,
            "display": null,
            "left": null
          }
        },
        "3dc259ba0b064cceb0ef92b8fc95410b": {
          "model_module": "@jupyter-widgets/controls",
          "model_name": "DescriptionStyleModel",
          "model_module_version": "1.5.0",
          "state": {
            "_view_name": "StyleView",
            "_model_name": "DescriptionStyleModel",
            "description_width": "",
            "_view_module": "@jupyter-widgets/base",
            "_model_module_version": "1.5.0",
            "_view_count": null,
            "_view_module_version": "1.2.0",
            "_model_module": "@jupyter-widgets/controls"
          }
        },
        "4f59c77e87934ac7b2b141fac94fe17d": {
          "model_module": "@jupyter-widgets/base",
          "model_name": "LayoutModel",
          "model_module_version": "1.2.0",
          "state": {
            "_view_name": "LayoutView",
            "grid_template_rows": null,
            "right": null,
            "justify_content": null,
            "_view_module": "@jupyter-widgets/base",
            "overflow": null,
            "_model_module_version": "1.2.0",
            "_view_count": null,
            "flex_flow": null,
            "width": null,
            "min_width": null,
            "border": null,
            "align_items": null,
            "bottom": null,
            "_model_module": "@jupyter-widgets/base",
            "top": null,
            "grid_column": null,
            "overflow_y": null,
            "overflow_x": null,
            "grid_auto_flow": null,
            "grid_area": null,
            "grid_template_columns": null,
            "flex": null,
            "_model_name": "LayoutModel",
            "justify_items": null,
            "grid_row": null,
            "max_height": null,
            "align_content": null,
            "visibility": null,
            "align_self": null,
            "height": null,
            "min_height": null,
            "padding": null,
            "grid_auto_rows": null,
            "grid_gap": null,
            "max_width": null,
            "order": null,
            "_view_module_version": "1.2.0",
            "grid_template_areas": null,
            "object_position": null,
            "object_fit": null,
            "grid_auto_columns": null,
            "margin": null,
            "display": null,
            "left": null
          }
        },
        "0d86df91dcb54832ab72b309ee0f083c": {
          "model_module": "@jupyter-widgets/controls",
          "model_name": "HBoxModel",
          "model_module_version": "1.5.0",
          "state": {
            "_view_name": "HBoxView",
            "_dom_classes": [],
            "_model_name": "HBoxModel",
            "_view_module": "@jupyter-widgets/controls",
            "_model_module_version": "1.5.0",
            "_view_count": null,
            "_view_module_version": "1.5.0",
            "box_style": "",
            "layout": "IPY_MODEL_479711dbe7054df890271490f686ce80",
            "_model_module": "@jupyter-widgets/controls",
            "children": [
              "IPY_MODEL_bfc100220df04d31b940fd6e84a9fbf9",
              "IPY_MODEL_e027dfee1f834a1b83d978cd4478be0d",
              "IPY_MODEL_0e594c48ee274a7a835a0f61de477afa"
            ]
          }
        },
        "479711dbe7054df890271490f686ce80": {
          "model_module": "@jupyter-widgets/base",
          "model_name": "LayoutModel",
          "model_module_version": "1.2.0",
          "state": {
            "_view_name": "LayoutView",
            "grid_template_rows": null,
            "right": null,
            "justify_content": null,
            "_view_module": "@jupyter-widgets/base",
            "overflow": null,
            "_model_module_version": "1.2.0",
            "_view_count": null,
            "flex_flow": null,
            "width": null,
            "min_width": null,
            "border": null,
            "align_items": null,
            "bottom": null,
            "_model_module": "@jupyter-widgets/base",
            "top": null,
            "grid_column": null,
            "overflow_y": null,
            "overflow_x": null,
            "grid_auto_flow": null,
            "grid_area": null,
            "grid_template_columns": null,
            "flex": null,
            "_model_name": "LayoutModel",
            "justify_items": null,
            "grid_row": null,
            "max_height": null,
            "align_content": null,
            "visibility": null,
            "align_self": null,
            "height": null,
            "min_height": null,
            "padding": null,
            "grid_auto_rows": null,
            "grid_gap": null,
            "max_width": null,
            "order": null,
            "_view_module_version": "1.2.0",
            "grid_template_areas": null,
            "object_position": null,
            "object_fit": null,
            "grid_auto_columns": null,
            "margin": null,
            "display": null,
            "left": null
          }
        },
        "bfc100220df04d31b940fd6e84a9fbf9": {
          "model_module": "@jupyter-widgets/controls",
          "model_name": "HTMLModel",
          "model_module_version": "1.5.0",
          "state": {
            "_view_name": "HTMLView",
            "style": "IPY_MODEL_b5edc0dde80a44cd9c323f764f772b1f",
            "_dom_classes": [],
            "description": "",
            "_model_name": "HTMLModel",
            "placeholder": "​",
            "_view_module": "@jupyter-widgets/controls",
            "_model_module_version": "1.5.0",
            "value": "100%",
            "_view_count": null,
            "_view_module_version": "1.5.0",
            "description_tooltip": null,
            "_model_module": "@jupyter-widgets/controls",
            "layout": "IPY_MODEL_26d227811b5d4db7ba9fd21dadb83ee3"
          }
        },
        "e027dfee1f834a1b83d978cd4478be0d": {
          "model_module": "@jupyter-widgets/controls",
          "model_name": "FloatProgressModel",
          "model_module_version": "1.5.0",
          "state": {
            "_view_name": "ProgressView",
            "style": "IPY_MODEL_ecfb887438d043ce91f7496c8593c5ac",
            "_dom_classes": [],
            "description": "",
            "_model_name": "FloatProgressModel",
            "bar_style": "success",
            "max": 391,
            "_view_module": "@jupyter-widgets/controls",
            "_model_module_version": "1.5.0",
            "value": 391,
            "_view_count": null,
            "_view_module_version": "1.5.0",
            "orientation": "horizontal",
            "min": 0,
            "description_tooltip": null,
            "_model_module": "@jupyter-widgets/controls",
            "layout": "IPY_MODEL_ec0273697fef49dcaf38da6c3a4aaa18"
          }
        },
        "0e594c48ee274a7a835a0f61de477afa": {
          "model_module": "@jupyter-widgets/controls",
          "model_name": "HTMLModel",
          "model_module_version": "1.5.0",
          "state": {
            "_view_name": "HTMLView",
            "style": "IPY_MODEL_a32accf435e64af2895b146b95077066",
            "_dom_classes": [],
            "description": "",
            "_model_name": "HTMLModel",
            "placeholder": "​",
            "_view_module": "@jupyter-widgets/controls",
            "_model_module_version": "1.5.0",
            "value": " 391/391 [00:09&lt;00:00, 11.49it/s]",
            "_view_count": null,
            "_view_module_version": "1.5.0",
            "description_tooltip": null,
            "_model_module": "@jupyter-widgets/controls",
            "layout": "IPY_MODEL_a9e4cf49ecb041549ae23837c8b21c35"
          }
        },
        "b5edc0dde80a44cd9c323f764f772b1f": {
          "model_module": "@jupyter-widgets/controls",
          "model_name": "DescriptionStyleModel",
          "model_module_version": "1.5.0",
          "state": {
            "_view_name": "StyleView",
            "_model_name": "DescriptionStyleModel",
            "description_width": "",
            "_view_module": "@jupyter-widgets/base",
            "_model_module_version": "1.5.0",
            "_view_count": null,
            "_view_module_version": "1.2.0",
            "_model_module": "@jupyter-widgets/controls"
          }
        },
        "26d227811b5d4db7ba9fd21dadb83ee3": {
          "model_module": "@jupyter-widgets/base",
          "model_name": "LayoutModel",
          "model_module_version": "1.2.0",
          "state": {
            "_view_name": "LayoutView",
            "grid_template_rows": null,
            "right": null,
            "justify_content": null,
            "_view_module": "@jupyter-widgets/base",
            "overflow": null,
            "_model_module_version": "1.2.0",
            "_view_count": null,
            "flex_flow": null,
            "width": null,
            "min_width": null,
            "border": null,
            "align_items": null,
            "bottom": null,
            "_model_module": "@jupyter-widgets/base",
            "top": null,
            "grid_column": null,
            "overflow_y": null,
            "overflow_x": null,
            "grid_auto_flow": null,
            "grid_area": null,
            "grid_template_columns": null,
            "flex": null,
            "_model_name": "LayoutModel",
            "justify_items": null,
            "grid_row": null,
            "max_height": null,
            "align_content": null,
            "visibility": null,
            "align_self": null,
            "height": null,
            "min_height": null,
            "padding": null,
            "grid_auto_rows": null,
            "grid_gap": null,
            "max_width": null,
            "order": null,
            "_view_module_version": "1.2.0",
            "grid_template_areas": null,
            "object_position": null,
            "object_fit": null,
            "grid_auto_columns": null,
            "margin": null,
            "display": null,
            "left": null
          }
        },
        "ecfb887438d043ce91f7496c8593c5ac": {
          "model_module": "@jupyter-widgets/controls",
          "model_name": "ProgressStyleModel",
          "model_module_version": "1.5.0",
          "state": {
            "_view_name": "StyleView",
            "_model_name": "ProgressStyleModel",
            "description_width": "",
            "_view_module": "@jupyter-widgets/base",
            "_model_module_version": "1.5.0",
            "_view_count": null,
            "_view_module_version": "1.2.0",
            "bar_color": null,
            "_model_module": "@jupyter-widgets/controls"
          }
        },
        "ec0273697fef49dcaf38da6c3a4aaa18": {
          "model_module": "@jupyter-widgets/base",
          "model_name": "LayoutModel",
          "model_module_version": "1.2.0",
          "state": {
            "_view_name": "LayoutView",
            "grid_template_rows": null,
            "right": null,
            "justify_content": null,
            "_view_module": "@jupyter-widgets/base",
            "overflow": null,
            "_model_module_version": "1.2.0",
            "_view_count": null,
            "flex_flow": null,
            "width": null,
            "min_width": null,
            "border": null,
            "align_items": null,
            "bottom": null,
            "_model_module": "@jupyter-widgets/base",
            "top": null,
            "grid_column": null,
            "overflow_y": null,
            "overflow_x": null,
            "grid_auto_flow": null,
            "grid_area": null,
            "grid_template_columns": null,
            "flex": null,
            "_model_name": "LayoutModel",
            "justify_items": null,
            "grid_row": null,
            "max_height": null,
            "align_content": null,
            "visibility": null,
            "align_self": null,
            "height": null,
            "min_height": null,
            "padding": null,
            "grid_auto_rows": null,
            "grid_gap": null,
            "max_width": null,
            "order": null,
            "_view_module_version": "1.2.0",
            "grid_template_areas": null,
            "object_position": null,
            "object_fit": null,
            "grid_auto_columns": null,
            "margin": null,
            "display": null,
            "left": null
          }
        },
        "a32accf435e64af2895b146b95077066": {
          "model_module": "@jupyter-widgets/controls",
          "model_name": "DescriptionStyleModel",
          "model_module_version": "1.5.0",
          "state": {
            "_view_name": "StyleView",
            "_model_name": "DescriptionStyleModel",
            "description_width": "",
            "_view_module": "@jupyter-widgets/base",
            "_model_module_version": "1.5.0",
            "_view_count": null,
            "_view_module_version": "1.2.0",
            "_model_module": "@jupyter-widgets/controls"
          }
        },
        "a9e4cf49ecb041549ae23837c8b21c35": {
          "model_module": "@jupyter-widgets/base",
          "model_name": "LayoutModel",
          "model_module_version": "1.2.0",
          "state": {
            "_view_name": "LayoutView",
            "grid_template_rows": null,
            "right": null,
            "justify_content": null,
            "_view_module": "@jupyter-widgets/base",
            "overflow": null,
            "_model_module_version": "1.2.0",
            "_view_count": null,
            "flex_flow": null,
            "width": null,
            "min_width": null,
            "border": null,
            "align_items": null,
            "bottom": null,
            "_model_module": "@jupyter-widgets/base",
            "top": null,
            "grid_column": null,
            "overflow_y": null,
            "overflow_x": null,
            "grid_auto_flow": null,
            "grid_area": null,
            "grid_template_columns": null,
            "flex": null,
            "_model_name": "LayoutModel",
            "justify_items": null,
            "grid_row": null,
            "max_height": null,
            "align_content": null,
            "visibility": null,
            "align_self": null,
            "height": null,
            "min_height": null,
            "padding": null,
            "grid_auto_rows": null,
            "grid_gap": null,
            "max_width": null,
            "order": null,
            "_view_module_version": "1.2.0",
            "grid_template_areas": null,
            "object_position": null,
            "object_fit": null,
            "grid_auto_columns": null,
            "margin": null,
            "display": null,
            "left": null
          }
        }
      }
    },
    "accelerator": "GPU"
  },
  "cells": [
    {
      "cell_type": "code",
      "metadata": {
        "id": "HXd4o-HZkHQN"
      },
      "source": [
        "import torch\n",
        "import torch.nn as nn\n",
        "import torch.nn.functional as F\n",
        "import os\n",
        "import numpy as np"
      ],
      "execution_count": 1,
      "outputs": []
    },
    {
      "cell_type": "markdown",
      "metadata": {
        "id": "kM_LmfEWkHRV"
      },
      "source": [
        "# Классификация отзывов фильмов с IMDB на положительные и отрицательные\n",
        "\n",
        "<img src=\"https://github.com/bentrevett/pytorch-sentiment-analysis/raw/bf8cc46e4823ebf9af721b595501ad6231c73632/assets/sentiment1.png\">\n",
        "\n",
        "Общая задача: \n",
        "\n",
        "Есть датасет из текстов, необходимо решить задачу классификации на *положительные* отзывы и *отрицательные*\n",
        "\n",
        "Pipeline:\n",
        "\n",
        "1. Создать датасеты, разбить данные на обучающие, валидационные, тестовые\n",
        "\n",
        "2. Для каждого текста - закодировать слова в соответствии со словарём\n",
        "\n",
        "3. На вход модели подать батч из предложений, то есть массив индексов\n",
        "\n",
        "4. С помощью embedding превратить индексы - в вектора слов\n",
        "\n",
        "5. Дальше в модели использовать реккурентную ячейку GRU\n",
        "\n",
        "6. После этого - линейный слой и софт-макс для классификации \n",
        "\n",
        "7. Подсчитать метрику на тестовом датасете"
      ]
    },
    {
      "cell_type": "code",
      "source": [
        ""
      ],
      "metadata": {
        "id": "ZDqyDoX8TVBI"
      },
      "execution_count": 1,
      "outputs": []
    },
    {
      "cell_type": "markdown",
      "source": [
        "# Работаем с данными"
      ],
      "metadata": {
        "id": "pNuBc9rnTVRh"
      }
    },
    {
      "cell_type": "code",
      "metadata": {
        "id": "-jprChrLiWAh",
        "colab": {
          "base_uri": "https://localhost:8080/"
        },
        "outputId": "fff1243f-3118-4d01-c94c-cb0f30135a88"
      },
      "source": [
        "!pip install torchtext\n",
        "!python -m spacy download en"
      ],
      "execution_count": 2,
      "outputs": [
        {
          "output_type": "stream",
          "name": "stdout",
          "text": [
            "Requirement already satisfied: torchtext in /usr/local/lib/python3.7/dist-packages (0.11.0)\n",
            "Requirement already satisfied: requests in /usr/local/lib/python3.7/dist-packages (from torchtext) (2.23.0)\n",
            "Requirement already satisfied: tqdm in /usr/local/lib/python3.7/dist-packages (from torchtext) (4.62.3)\n",
            "Requirement already satisfied: numpy in /usr/local/lib/python3.7/dist-packages (from torchtext) (1.19.5)\n",
            "Requirement already satisfied: torch==1.10.0 in /usr/local/lib/python3.7/dist-packages (from torchtext) (1.10.0+cu111)\n",
            "Requirement already satisfied: typing-extensions in /usr/local/lib/python3.7/dist-packages (from torch==1.10.0->torchtext) (3.10.0.2)\n",
            "Requirement already satisfied: chardet<4,>=3.0.2 in /usr/local/lib/python3.7/dist-packages (from requests->torchtext) (3.0.4)\n",
            "Requirement already satisfied: certifi>=2017.4.17 in /usr/local/lib/python3.7/dist-packages (from requests->torchtext) (2021.10.8)\n",
            "Requirement already satisfied: urllib3!=1.25.0,!=1.25.1,<1.26,>=1.21.1 in /usr/local/lib/python3.7/dist-packages (from requests->torchtext) (1.24.3)\n",
            "Requirement already satisfied: idna<3,>=2.5 in /usr/local/lib/python3.7/dist-packages (from requests->torchtext) (2.10)\n",
            "Collecting en_core_web_sm==2.2.5\n",
            "  Downloading https://github.com/explosion/spacy-models/releases/download/en_core_web_sm-2.2.5/en_core_web_sm-2.2.5.tar.gz (12.0 MB)\n",
            "\u001b[K     |████████████████████████████████| 12.0 MB 5.3 MB/s \n",
            "\u001b[?25hRequirement already satisfied: spacy>=2.2.2 in /usr/local/lib/python3.7/dist-packages (from en_core_web_sm==2.2.5) (2.2.4)\n",
            "Requirement already satisfied: blis<0.5.0,>=0.4.0 in /usr/local/lib/python3.7/dist-packages (from spacy>=2.2.2->en_core_web_sm==2.2.5) (0.4.1)\n",
            "Requirement already satisfied: tqdm<5.0.0,>=4.38.0 in /usr/local/lib/python3.7/dist-packages (from spacy>=2.2.2->en_core_web_sm==2.2.5) (4.62.3)\n",
            "Requirement already satisfied: srsly<1.1.0,>=1.0.2 in /usr/local/lib/python3.7/dist-packages (from spacy>=2.2.2->en_core_web_sm==2.2.5) (1.0.5)\n",
            "Requirement already satisfied: numpy>=1.15.0 in /usr/local/lib/python3.7/dist-packages (from spacy>=2.2.2->en_core_web_sm==2.2.5) (1.19.5)\n",
            "Requirement already satisfied: preshed<3.1.0,>=3.0.2 in /usr/local/lib/python3.7/dist-packages (from spacy>=2.2.2->en_core_web_sm==2.2.5) (3.0.6)\n",
            "Requirement already satisfied: setuptools in /usr/local/lib/python3.7/dist-packages (from spacy>=2.2.2->en_core_web_sm==2.2.5) (57.4.0)\n",
            "Requirement already satisfied: cymem<2.1.0,>=2.0.2 in /usr/local/lib/python3.7/dist-packages (from spacy>=2.2.2->en_core_web_sm==2.2.5) (2.0.6)\n",
            "Requirement already satisfied: requests<3.0.0,>=2.13.0 in /usr/local/lib/python3.7/dist-packages (from spacy>=2.2.2->en_core_web_sm==2.2.5) (2.23.0)\n",
            "Requirement already satisfied: catalogue<1.1.0,>=0.0.7 in /usr/local/lib/python3.7/dist-packages (from spacy>=2.2.2->en_core_web_sm==2.2.5) (1.0.0)\n",
            "Requirement already satisfied: thinc==7.4.0 in /usr/local/lib/python3.7/dist-packages (from spacy>=2.2.2->en_core_web_sm==2.2.5) (7.4.0)\n",
            "Requirement already satisfied: plac<1.2.0,>=0.9.6 in /usr/local/lib/python3.7/dist-packages (from spacy>=2.2.2->en_core_web_sm==2.2.5) (1.1.3)\n",
            "Requirement already satisfied: murmurhash<1.1.0,>=0.28.0 in /usr/local/lib/python3.7/dist-packages (from spacy>=2.2.2->en_core_web_sm==2.2.5) (1.0.6)\n",
            "Requirement already satisfied: wasabi<1.1.0,>=0.4.0 in /usr/local/lib/python3.7/dist-packages (from spacy>=2.2.2->en_core_web_sm==2.2.5) (0.9.0)\n",
            "Requirement already satisfied: importlib-metadata>=0.20 in /usr/local/lib/python3.7/dist-packages (from catalogue<1.1.0,>=0.0.7->spacy>=2.2.2->en_core_web_sm==2.2.5) (4.10.0)\n",
            "Requirement already satisfied: typing-extensions>=3.6.4 in /usr/local/lib/python3.7/dist-packages (from importlib-metadata>=0.20->catalogue<1.1.0,>=0.0.7->spacy>=2.2.2->en_core_web_sm==2.2.5) (3.10.0.2)\n",
            "Requirement already satisfied: zipp>=0.5 in /usr/local/lib/python3.7/dist-packages (from importlib-metadata>=0.20->catalogue<1.1.0,>=0.0.7->spacy>=2.2.2->en_core_web_sm==2.2.5) (3.7.0)\n",
            "Requirement already satisfied: idna<3,>=2.5 in /usr/local/lib/python3.7/dist-packages (from requests<3.0.0,>=2.13.0->spacy>=2.2.2->en_core_web_sm==2.2.5) (2.10)\n",
            "Requirement already satisfied: chardet<4,>=3.0.2 in /usr/local/lib/python3.7/dist-packages (from requests<3.0.0,>=2.13.0->spacy>=2.2.2->en_core_web_sm==2.2.5) (3.0.4)\n",
            "Requirement already satisfied: certifi>=2017.4.17 in /usr/local/lib/python3.7/dist-packages (from requests<3.0.0,>=2.13.0->spacy>=2.2.2->en_core_web_sm==2.2.5) (2021.10.8)\n",
            "Requirement already satisfied: urllib3!=1.25.0,!=1.25.1,<1.26,>=1.21.1 in /usr/local/lib/python3.7/dist-packages (from requests<3.0.0,>=2.13.0->spacy>=2.2.2->en_core_web_sm==2.2.5) (1.24.3)\n",
            "\u001b[38;5;2m✔ Download and installation successful\u001b[0m\n",
            "You can now load the model via spacy.load('en_core_web_sm')\n",
            "\u001b[38;5;2m✔ Linking successful\u001b[0m\n",
            "/usr/local/lib/python3.7/dist-packages/en_core_web_sm -->\n",
            "/usr/local/lib/python3.7/dist-packages/spacy/data/en\n",
            "You can now load the model via spacy.load('en')\n"
          ]
        }
      ]
    },
    {
      "cell_type": "code",
      "metadata": {
        "id": "vpiI5vjUkHRW"
      },
      "source": [
        "import torch\n",
        "from torchtext import data\n",
        "from torchtext.legacy import data\n",
        "\n",
        "SEED = 2022\n",
        "\n",
        "torch.manual_seed(SEED)\n",
        "torch.cuda.manual_seed(SEED)\n",
        "torch.backends.cudnn.deterministic = True\n",
        "\n",
        "TEXT = data.Field(tokenize='spacy')\n",
        "LABEL = data.LabelField(dtype=torch.float)"
      ],
      "execution_count": 3,
      "outputs": []
    },
    {
      "cell_type": "code",
      "metadata": {
        "id": "MOCZ7pthkHRY"
      },
      "source": [
        "from torchtext.legacy import datasets\n",
        "train_data, test_data = datasets.IMDB.splits(TEXT, LABEL, root=\"./data\")"
      ],
      "execution_count": 4,
      "outputs": []
    },
    {
      "cell_type": "code",
      "metadata": {
        "id": "U3Ow6Q3okHRf",
        "colab": {
          "base_uri": "https://localhost:8080/"
        },
        "outputId": "b2a44f00-8964-4b73-bbb0-6838b8fb1488"
      },
      "source": [
        "print(f'Number of training examples: {len(train_data)}')\n",
        "print(f'Number of testing examples: {len(test_data)}')\n",
        "\n",
        "print(vars(train_data.examples[1]))"
      ],
      "execution_count": 5,
      "outputs": [
        {
          "output_type": "stream",
          "name": "stdout",
          "text": [
            "Number of training examples: 25000\n",
            "Number of testing examples: 25000\n",
            "{'text': ['Damon', 'Runyon', \"'s\", 'world', 'of', 'Times', 'Square', ',', 'in', 'New', 'York', ',', 'prior', 'to', 'its', 'Disneyfication', ',', 'is', 'the', 'basis', 'for', 'this', 'musical', '.', 'Joseph', 'L.', 'Mankiewicz', ',', 'a', 'man', 'who', 'knew', 'about', 'movies', ',', 'directed', 'this', 'nostalgic', 'tribute', 'to', 'the', '\"', 'crossroads', 'of', 'the', 'world', '\"', 'that', 'show', 'us', 'that', 'underside', 'of', 'New', 'York', 'of', 'the', 'past', '.', 'Frank', 'Loesser', \"'s\", 'music', 'sounds', 'great', '.', 'We', 'watch', 'a', 'magnificent', 'cast', 'of', 'characters', 'that', 'were', 'typical', 'of', 'the', 'area', '.', 'People', 'at', 'the', 'edges', 'of', 'society', 'tended', 'to', 'gravitate', 'toward', 'that', 'area', 'because', 'of', 'the', 'lights', ',', 'the', 'action', ',', 'the', 'possibilities', 'in', 'that', 'part', 'of', 'town', '.', 'This', 'underbelly', 'of', 'the', 'city', 'made', 'a', 'living', 'out', 'of', 'the', 'street', 'life', 'that', 'was', 'so', 'intense.<br', '/><br', '/>Some', 'of', 'the', 'songs', 'from', 'the', 'original', 'production', 'were', 'not', 'included', 'in', 'the', 'film', '.', 'We', 'do', \"n't\", 'know', 'whether', 'this', 'makes', 'sense', ',', 'but', 'this', 'is', 'not', 'unusual', 'for', 'a', 'Hollywood', 'musical', 'to', 'change', 'and', 'alter', 'what', 'worked', 'on', 'the', 'stage', '.', 'That', 'original', 'cast', 'included', 'the', 'wonderful', 'Vivian', 'Blaine', 'and', 'Stubby', 'Kaye', ',', 'and', 'we', 'wonder', 'about', 'the', 'decision', 'of', 'not', 'letting', 'Robert', 'Alda', ',', 'Sam', 'Levene', ',', 'Isabel', 'Bigley', 'repeat', 'their', 'original', 'roles', '.', 'These', 'were', 'distinguished', 'actors', 'that', 'could', 'have', 'made', 'an', 'amazing', 'contribution.<br', '/><br', '/>The', 'film', ',', 'visually', ',', 'is', 'amazing', '.', 'The', 'look', 'follows', 'closely', 'the', 'fashions', 'of', 'the', 'times', '.', 'As', 'far', 'as', 'the', 'casting', 'of', 'Marlon', 'Brando', ',', 'otherwise', 'not', 'known', 'for', 'his', 'singing', 'abilities', ',', 'Frank', 'Sinatra', 'and', 'Jean', 'Simmons', ',', 'seem', 'to', 'work', 'in', 'the', 'film', '.', 'Sky', 'Masterson', 'is', ',', 'after', 'all', ',', 'a', 'man', \"'s\", 'man', ',', 'who', 'would', 'look', 'otherwise', 'sissy', 'if', 'he', 'presented', 'a', 'different', \"'\", 'look', \"'\", '.', 'Frank', 'Sinatra', 'is', 'good', 'as', 'Nathan', 'Detroit', '.', 'Jean', 'Simmons', ',', 'as', 'Sarah', 'Brown', ',', 'does', 'a', 'nice', 'job', 'portraying', 'the', 'woman', 'from', 'the', 'Salvation', 'Army', 'who', 'suddenly', 'finds', 'fulfillment', 'with', 'the', 'same', 'kind', 'of', 'man', 'she', 'is', 'trying', 'to', 'save.<br', '/><br', '/>Vivian', 'Blaine', 'is', 'a', 'delight', '.', 'She', 'never', 'ceases', 'to', 'amaze', 'as', 'Miss', 'Adelaide', ',', 'a', 'woman', 'with', 'a', 'heart', 'of', 'gold', 'who', \"'s\", 'Nathan', 'Detroit', \"'s\", 'love', 'interest', '.', 'Ms.', 'Blaine', 'makes', 'a', 'fantastic', 'impression', 'as', 'the', 'show', 'girl', 'who', 'is', 'wiser', 'than', 'she', 'lets', 'out', 'to', 'be', '.', 'Stubby', 'Kaye', 'makes', 'a', 'wonderful', 'job', 'out', 'of', 'reprising', 'his', 'Nicely', 'Nicely', 'Johnson.<br', '/><br', '/>The', 'wonderful', 'production', 'owes', 'a', 'lot', 'to', 'the', 'talented', 'Abe', 'Burrows', ',', 'who', 'made', 'the', 'adaptation', 'to', 'the', 'screen', '.', 'The', 'costumes', 'by', 'Irene', 'Sharaff', 'set', 'the', 'right', 'tone', '.'], 'label': 'pos'}\n"
          ]
        }
      ]
    },
    {
      "cell_type": "code",
      "metadata": {
        "id": "BufoUgSCkHRn",
        "colab": {
          "base_uri": "https://localhost:8080/"
        },
        "outputId": "585b5c2c-8565-498e-fb33-7e2caed396d6"
      },
      "source": [
        "# Создаём ещё eval\n",
        "import random\n",
        "\n",
        "train_data, valid_data = train_data.split(random_state=random.seed(SEED))\n",
        "\n",
        "# Создаём словарь\n",
        "TEXT.build_vocab(train_data, max_size=25000)\n",
        "LABEL.build_vocab(train_data)\n",
        "\n",
        "print(f\"Unique tokens in TEXT vocabulary: {len(TEXT.vocab)}\")\n",
        "print(f\"Unique tokens in LABEL vocabulary: {len(LABEL.vocab)}\")\n",
        "\n",
        "vars(LABEL.vocab)"
      ],
      "execution_count": 6,
      "outputs": [
        {
          "output_type": "stream",
          "name": "stdout",
          "text": [
            "Unique tokens in TEXT vocabulary: 25002\n",
            "Unique tokens in LABEL vocabulary: 2\n"
          ]
        },
        {
          "output_type": "execute_result",
          "data": {
            "text/plain": [
              "{'freqs': Counter({'neg': 8788, 'pos': 8712}),\n",
              " 'itos': ['neg', 'pos'],\n",
              " 'stoi': defaultdict(None, {'neg': 0, 'pos': 1}),\n",
              " 'unk_index': None,\n",
              " 'vectors': None}"
            ]
          },
          "metadata": {},
          "execution_count": 6
        }
      ]
    },
    {
      "cell_type": "markdown",
      "metadata": {
        "id": "1kPcwN6qkHR1"
      },
      "source": [
        "* stoi (string to int)\n",
        "* itos (int to string)"
      ]
    },
    {
      "cell_type": "code",
      "metadata": {
        "id": "qxMRpe-hkHRz",
        "colab": {
          "base_uri": "https://localhost:8080/"
        },
        "outputId": "fa6c71db-6d06-4f74-c821-3a9c13df8193"
      },
      "source": [
        "print(TEXT.vocab.freqs.most_common(20))\n",
        "print()\n",
        "print(TEXT.vocab.itos[:10])\n",
        "print()\n",
        "print(LABEL.vocab.stoi)"
      ],
      "execution_count": 7,
      "outputs": [
        {
          "output_type": "stream",
          "name": "stdout",
          "text": [
            "[('the', 203510), (',', 192440), ('.', 166030), ('and', 109631), ('a', 109528), ('of', 101196), ('to', 93574), ('is', 76094), ('in', 61375), ('I', 55230), ('it', 53864), ('that', 49201), ('\"', 44351), (\"'s\", 43431), ('this', 42349), ('-', 37162), ('/><br', 35748), ('was', 35250), ('as', 30423), ('with', 29965)]\n",
            "\n",
            "['<unk>', '<pad>', 'the', ',', '.', 'and', 'a', 'of', 'to', 'is']\n",
            "\n",
            "defaultdict(None, {'neg': 0, 'pos': 1})\n"
          ]
        }
      ]
    },
    {
      "cell_type": "code",
      "metadata": {
        "id": "qzyXSNLTkHR5"
      },
      "source": [
        "BATCH_SIZE = 64\n",
        "\n",
        "device = torch.device('cuda' if torch.cuda.is_available() else 'cpu')\n",
        "\n",
        "# собираем батчи так, чтобы в каждом батче были примеры наиболее похожей длины\n",
        "train_iterator, valid_iterator, test_iterator = data.BucketIterator.splits(\n",
        "    (train_data, valid_data, test_data), \n",
        "    batch_size=BATCH_SIZE,\n",
        "    device=device,\n",
        "    sort=True, # Используем сортировку\n",
        "    sort_key=lambda x: len(x.text))"
      ],
      "execution_count": 8,
      "outputs": []
    },
    {
      "cell_type": "markdown",
      "source": [
        "Посмотрим на какой-нибудь пример из **train_iterator**"
      ],
      "metadata": {
        "id": "W8tRRpcOS-4K"
      }
    },
    {
      "cell_type": "code",
      "source": [
        "train_iterator.data()[0].text"
      ],
      "metadata": {
        "colab": {
          "base_uri": "https://localhost:8080/"
        },
        "id": "qoM8T-p1Jpt_",
        "outputId": "e9986b64-f749-450f-c3a8-da4c127f4b91"
      },
      "execution_count": 9,
      "outputs": [
        {
          "output_type": "execute_result",
          "data": {
            "text/plain": [
              "['I',\n",
              " 'would',\n",
              " \"n't\",\n",
              " 'rent',\n",
              " 'this',\n",
              " 'one',\n",
              " 'even',\n",
              " 'on',\n",
              " 'dollar',\n",
              " 'rental',\n",
              " 'night',\n",
              " '.']"
            ]
          },
          "metadata": {},
          "execution_count": 9
        }
      ]
    },
    {
      "cell_type": "code",
      "source": [
        "# Количество использованных слов в словаре\n",
        "len(TEXT.vocab)"
      ],
      "metadata": {
        "colab": {
          "base_uri": "https://localhost:8080/"
        },
        "id": "L7J8CxLSwkDs",
        "outputId": "ed3da1b3-21e8-4a16-adc5-45e2423d845d"
      },
      "execution_count": 10,
      "outputs": [
        {
          "output_type": "execute_result",
          "data": {
            "text/plain": [
              "25002"
            ]
          },
          "metadata": {},
          "execution_count": 10
        }
      ]
    },
    {
      "cell_type": "markdown",
      "source": [
        "## Создаём модель"
      ],
      "metadata": {
        "id": "G9tEFGYszM5J"
      }
    },
    {
      "cell_type": "code",
      "metadata": {
        "id": "HrizbizOkHR_"
      },
      "source": [
        "class TextPredictionModel(nn.Module):\n",
        "    def __init__(self, all_words_amount, embedding_size, hidden_size, batch_size=1,\n",
        "                 n_layers=1, bidirectional_rnn=False, nn_type=\"RNN\", device=torch.device(\"cpu\")):\n",
        "        super().__init__()\n",
        "        self.all_words_amount = all_words_amount\n",
        "        self.embedding_size = embedding_size\n",
        "        self.hidden_size = hidden_size\n",
        "        self.batch_size = batch_size\n",
        "        self.n_layers = n_layers\n",
        "        self.device = device\n",
        "        self.bidirectional_coefficent = 1 if bidirectional_rnn == False else 2\n",
        "        \n",
        "        # Embedding принимает два параметра - количество слов в словаре, и размерность представления у каждого слова\n",
        "        self.embedding = nn.Embedding(all_words_amount, embedding_size)\n",
        "\n",
        "        # Дальше выбираем тип нейронной сети: RNN или GRU (зависит от параметра nn_type)\n",
        "        if nn_type == \"GRU\":\n",
        "            self.reccurent_cell = nn.GRU(embedding_size, hidden_size, n_layers, bidirectional=bidirectional_rnn)\n",
        "        else:\n",
        "            self.reccurent_cell = nn.RNN(embedding_size, hidden_size, n_layers, bidirectional=bidirectional_rnn)\n",
        "\n",
        "        # Линейный слой с Soft-Max, чтобы в результате получить вероятности принадлежности к каждому классу\n",
        "        self.predicting = nn.Sequential(nn.Linear(hidden_size * n_layers * self.bidirectional_coefficent, 2),\n",
        "                                        nn.Softmax())\n",
        "\n",
        "    def init_hidden(self, batch_size_arg=None):\n",
        "        return torch.zeros(self.n_layers * self.bidirectional_coefficent,\n",
        "                           batch_size_arg if batch_size_arg is not None else self.batch_size,\n",
        "                           self.hidden_size).to(self.device)\n",
        "    \n",
        "    def forward(self, X):\n",
        "        # X - [batch_size, seq_len]\n",
        "        output = self.embedding(X) # Возвращает представление в виде [embedding_size, seq_size, batch_size]\n",
        "        output = output.permute(1, 0, 2) # Меняем оси, получаем [seq_size, embedding_size, batch_size]\n",
        "\n",
        "        # RNN принимает именно в таком порядке input: [seq_size, embedding_size, batch_size], поэтому сделали permute\n",
        "        # RNN принимает именно в таком порядке hidden_0: [layers_amount, batch_size, hidden_size]\n",
        "        h_0 = self.init_hidden(X.shape[0])\n",
        "\n",
        "        # На выходе из RNN - output и hn - то тензор из всех скрытых слоёв, а также последний\n",
        "        # Мы взяли только последний и назвали его h_n\n",
        "        h_n = self.reccurent_cell(output, h_0)[1]\n",
        "\n",
        "        # Меняем вектор h_n - переводим в вид [batch_size, n_layers * hidden * bidirectional_coefficient]\n",
        "        # То есть для не двухсторонней сети с одним слоем RNN  - просто [batch_size, hidden]\n",
        "        vector_to_classifier = h_n.view(X.shape[0], -1)\n",
        "\n",
        "        # Возвращаем результат классификатора\n",
        "        return self.predicting(vector_to_classifier)"
      ],
      "execution_count": 11,
      "outputs": []
    },
    {
      "cell_type": "code",
      "source": [
        ""
      ],
      "metadata": {
        "id": "UgJupcwqT9IQ"
      },
      "execution_count": 11,
      "outputs": []
    },
    {
      "cell_type": "markdown",
      "source": [
        "### Device"
      ],
      "metadata": {
        "id": "c_5bge--T9PL"
      }
    },
    {
      "cell_type": "code",
      "source": [
        "device = torch.device(\"cuda:0\" if torch.cuda.is_available() else \"cpu\")"
      ],
      "metadata": {
        "id": "lrNY80SahxZ_"
      },
      "execution_count": 12,
      "outputs": []
    },
    {
      "cell_type": "markdown",
      "source": [
        "Проверим работоспособность модели на искусственном примере"
      ],
      "metadata": {
        "id": "HahYijlxUFip"
      }
    },
    {
      "cell_type": "code",
      "source": [
        "model = TextPredictionModel(9, 10, 12, 4, 2, True, \"RNN\", device).to(device) \n",
        "# all_words_amount, embedding_size, hidden_size, batch_size, n_layers, bidirectional, nn_type, device\n",
        "\n",
        "X = torch.LongTensor([[0, 1, 2, 3, 4], [1, 2, 3, 0, 0], [2, 3, 1, 5, 0], [0, 6, 4, 7, 1]]).to(device)\n",
        "result = model(X)\n",
        "result"
      ],
      "metadata": {
        "colab": {
          "base_uri": "https://localhost:8080/"
        },
        "id": "Np8PqD4aL_5T",
        "outputId": "6a341643-bb09-4b47-8362-238c2fd72db1"
      },
      "execution_count": 13,
      "outputs": [
        {
          "output_type": "stream",
          "name": "stderr",
          "text": [
            "/usr/local/lib/python3.7/dist-packages/torch/nn/modules/container.py:141: UserWarning: Implicit dimension choice for softmax has been deprecated. Change the call to include dim=X as an argument.\n",
            "  input = module(input)\n"
          ]
        },
        {
          "output_type": "execute_result",
          "data": {
            "text/plain": [
              "tensor([[0.4690, 0.5310],\n",
              "        [0.3758, 0.6242],\n",
              "        [0.3601, 0.6399],\n",
              "        [0.4801, 0.5199]], device='cuda:0', grad_fn=<SoftmaxBackward0>)"
            ]
          },
          "metadata": {},
          "execution_count": 13
        }
      ]
    },
    {
      "cell_type": "markdown",
      "source": [
        "## Обучение"
      ],
      "metadata": {
        "id": "2yBiIN27vrtS"
      }
    },
    {
      "cell_type": "code",
      "source": [
        "def accuracy(y, real_y): # Обычная accuracy\n",
        "    return (1 - torch.abs(torch.max(y, dim=1).indices - real_y).sum() / len(real_y))"
      ],
      "metadata": {
        "id": "H67e0PcNliS3"
      },
      "execution_count": 14,
      "outputs": []
    },
    {
      "cell_type": "code",
      "source": [
        "ALL_WORD_AMOUNT = len(TEXT.vocab)\n",
        "EMBEDDING_SIZE = 128\n",
        "HIDDEN_SIZE = 64\n",
        "BATCH_SIZE = 64\n",
        "N_LAYERS = 1\n",
        "BIDIRECTIONAL = False\n",
        "NN_TYPE = \"GRU\""
      ],
      "metadata": {
        "id": "XQFzAFNCq9qm"
      },
      "execution_count": 15,
      "outputs": []
    },
    {
      "cell_type": "code",
      "source": [
        "model = TextPredictionModel(ALL_WORD_AMOUNT, EMBEDDING_SIZE, HIDDEN_SIZE, BATCH_SIZE, N_LAYERS, BIDIRECTIONAL, NN_TYPE, device)\n",
        "\n",
        "model = model.to(device)\n",
        "lr = 0.004\n",
        "optimizer = torch.optim.Adam(params=model.parameters(), lr=lr)\n",
        "scheduler = torch.optim.lr_scheduler.MultiplicativeLR(optimizer, lambda x: 0.95)\n",
        "loss = torch.nn.CrossEntropyLoss()\n",
        "epohs = 15"
      ],
      "metadata": {
        "id": "SapcT0uJasu1"
      },
      "execution_count": 16,
      "outputs": []
    },
    {
      "cell_type": "code",
      "source": [
        "from tqdm.notebook import tqdm\n",
        "\n",
        "all_losses = []\n",
        "for epoh in tqdm(range(epohs)):\n",
        "    c_loss = []\n",
        "    val_accuracy = []\n",
        "    train_accuracy = []\n",
        "    for batch in train_iterator:\n",
        "        optimizer.zero_grad()\n",
        "        # Подаём нужные размерности\n",
        "        output = model(batch.text.permute(1, 0))\n",
        "        # Считаем лосс\n",
        "        loss_value = loss(output, batch.label.to(device, dtype=torch.long))\n",
        "        loss_value.backward()\n",
        "        \n",
        "        optimizer.step()\n",
        "        c_loss.append(loss_value.item())\n",
        "\n",
        "    # Подсчитываем метрику на валидации и тренировочном датасете\n",
        "    for batch in valid_iterator:\n",
        "        val_accuracy.append(accuracy(model(batch.text.permute(1, 0)), batch.label).cpu().numpy())\n",
        "    for batch in train_iterator:\n",
        "        train_accuracy.append(accuracy(model(batch.text.permute(1, 0)), batch.label).cpu().numpy())\n",
        "\n",
        "    # Выводим информацию и делаем шаг scheduler\n",
        "    print(\"--\" * 15)\n",
        "    print(\"EPOCH:\\t {}\".format(str(epoh)))\n",
        "    print(\"Loss:\\t\\t\\t {:7.5f}\".format(sum(c_loss) / len(c_loss)))\n",
        "    print(\"Learning rate:\\t\\t {:7.5f}\".format(float(optimizer.state_dict()[\"param_groups\"][0][\"lr\"])))\n",
        "    print(\"Accuracy train:\\t\\t {:7.3%}\".format(sum(train_accuracy) / len(train_accuracy)))\n",
        "    print(\"Accuracy validation:\\t {:7.3%}\".format(sum(val_accuracy) / len(val_accuracy)))\n",
        "    scheduler.step()"
      ],
      "metadata": {
        "colab": {
          "base_uri": "https://localhost:8080/",
          "height": 1000,
          "referenced_widgets": [
            "9a864463a5cc474bb2bfc143c2f89ee0",
            "975468f1e3504cb7be9bb91c16225aef",
            "de07285b92a5468bb2e5c8f86a63cb87",
            "1258b7bf37724980b8afd87ba330b014",
            "75676d409a2c4446a16b763f0820a165",
            "75067a09af744e10951c7282077e7747",
            "7f939ad7f60c40d6b8bda1761d04461f",
            "e36ba4a152314c44998c0ee9fa1850eb",
            "c0aa785850de418db7499c45252a9867",
            "3dc259ba0b064cceb0ef92b8fc95410b",
            "4f59c77e87934ac7b2b141fac94fe17d"
          ]
        },
        "id": "BEY-gwdhasxd",
        "outputId": "3af62e8b-4a69-4134-83e1-8a3eaefc64b9"
      },
      "execution_count": 19,
      "outputs": [
        {
          "output_type": "display_data",
          "data": {
            "application/vnd.jupyter.widget-view+json": {
              "model_id": "9a864463a5cc474bb2bfc143c2f89ee0",
              "version_minor": 0,
              "version_major": 2
            },
            "text/plain": [
              "  0%|          | 0/15 [00:00<?, ?it/s]"
            ]
          },
          "metadata": {}
        },
        {
          "output_type": "stream",
          "name": "stderr",
          "text": [
            "/usr/local/lib/python3.7/dist-packages/torch/nn/modules/container.py:141: UserWarning: Implicit dimension choice for softmax has been deprecated. Change the call to include dim=X as an argument.\n",
            "  input = module(input)\n"
          ]
        },
        {
          "output_type": "stream",
          "name": "stdout",
          "text": [
            "------------------------------\n",
            "EPOCH:\t 0\n",
            "Loss:\t\t\t 0.35893\n",
            "Learning rate:\t\t 0.00380\n",
            "Accuracy train:\t\t 96.556%\n",
            "Accuracy validation:\t 86.630%\n",
            "------------------------------\n",
            "EPOCH:\t 1\n",
            "Loss:\t\t\t 0.34816\n",
            "Learning rate:\t\t 0.00361\n",
            "Accuracy train:\t\t 97.491%\n",
            "Accuracy validation:\t 87.142%\n",
            "------------------------------\n",
            "EPOCH:\t 2\n",
            "Loss:\t\t\t 0.34129\n",
            "Learning rate:\t\t 0.00343\n",
            "Accuracy train:\t\t 97.993%\n",
            "Accuracy validation:\t 87.050%\n",
            "------------------------------\n",
            "EPOCH:\t 3\n",
            "Loss:\t\t\t 0.33728\n",
            "Learning rate:\t\t 0.00326\n",
            "Accuracy train:\t\t 98.118%\n",
            "Accuracy validation:\t 86.798%\n",
            "------------------------------\n",
            "EPOCH:\t 4\n",
            "Loss:\t\t\t 0.33487\n",
            "Learning rate:\t\t 0.00310\n",
            "Accuracy train:\t\t 98.432%\n",
            "Accuracy validation:\t 87.337%\n",
            "------------------------------\n",
            "EPOCH:\t 5\n",
            "Loss:\t\t\t 0.33010\n",
            "Learning rate:\t\t 0.00294\n",
            "Accuracy train:\t\t 98.609%\n",
            "Accuracy validation:\t 87.156%\n",
            "------------------------------\n",
            "EPOCH:\t 6\n",
            "Loss:\t\t\t 0.33092\n",
            "Learning rate:\t\t 0.00279\n",
            "Accuracy train:\t\t 98.455%\n",
            "Accuracy validation:\t 87.434%\n",
            "------------------------------\n",
            "EPOCH:\t 7\n",
            "Loss:\t\t\t 0.32903\n",
            "Learning rate:\t\t 0.00265\n",
            "Accuracy train:\t\t 98.706%\n",
            "Accuracy validation:\t 87.169%\n",
            "------------------------------\n",
            "EPOCH:\t 8\n",
            "Loss:\t\t\t 0.32768\n",
            "Learning rate:\t\t 0.00252\n",
            "Accuracy train:\t\t 98.358%\n",
            "Accuracy validation:\t 86.869%\n",
            "------------------------------\n",
            "EPOCH:\t 9\n",
            "Loss:\t\t\t 0.32687\n",
            "Learning rate:\t\t 0.00239\n",
            "Accuracy train:\t\t 98.392%\n",
            "Accuracy validation:\t 86.242%\n",
            "------------------------------\n",
            "EPOCH:\t 10\n",
            "Loss:\t\t\t 0.32622\n",
            "Learning rate:\t\t 0.00228\n",
            "Accuracy train:\t\t 98.820%\n",
            "Accuracy validation:\t 87.513%\n",
            "------------------------------\n",
            "EPOCH:\t 11\n",
            "Loss:\t\t\t 0.32576\n",
            "Learning rate:\t\t 0.00216\n",
            "Accuracy train:\t\t 98.859%\n",
            "Accuracy validation:\t 87.156%\n",
            "------------------------------\n",
            "EPOCH:\t 12\n",
            "Loss:\t\t\t 0.32491\n",
            "Learning rate:\t\t 0.00205\n",
            "Accuracy train:\t\t 98.859%\n",
            "Accuracy validation:\t 86.970%\n",
            "------------------------------\n",
            "EPOCH:\t 13\n",
            "Loss:\t\t\t 0.32538\n",
            "Learning rate:\t\t 0.00195\n",
            "Accuracy train:\t\t 98.859%\n",
            "Accuracy validation:\t 87.209%\n",
            "------------------------------\n",
            "EPOCH:\t 14\n",
            "Loss:\t\t\t 0.32517\n",
            "Learning rate:\t\t 0.00185\n",
            "Accuracy train:\t\t 98.928%\n",
            "Accuracy validation:\t 87.195%\n"
          ]
        }
      ]
    },
    {
      "cell_type": "code",
      "source": [
        ""
      ],
      "metadata": {
        "id": "LfgrsrrImN91"
      },
      "execution_count": 19,
      "outputs": []
    },
    {
      "cell_type": "markdown",
      "source": [
        "Проверяем точность на тесте"
      ],
      "metadata": {
        "id": "IMdKOEzr4uww"
      }
    },
    {
      "cell_type": "code",
      "source": [
        "all_accuracies = []\n",
        "for batch in tqdm(test_iterator):\n",
        "    all_accuracies.append(accuracy(model(batch.text.permute(1, 0)), batch.label).cpu().numpy())\n",
        "print(sum(all_accuracies) / len(all_accuracies))"
      ],
      "metadata": {
        "id": "XQGktZbNrMmi",
        "colab": {
          "base_uri": "https://localhost:8080/",
          "height": 121,
          "referenced_widgets": [
            "0d86df91dcb54832ab72b309ee0f083c",
            "479711dbe7054df890271490f686ce80",
            "bfc100220df04d31b940fd6e84a9fbf9",
            "e027dfee1f834a1b83d978cd4478be0d",
            "0e594c48ee274a7a835a0f61de477afa",
            "b5edc0dde80a44cd9c323f764f772b1f",
            "26d227811b5d4db7ba9fd21dadb83ee3",
            "ecfb887438d043ce91f7496c8593c5ac",
            "ec0273697fef49dcaf38da6c3a4aaa18",
            "a32accf435e64af2895b146b95077066",
            "a9e4cf49ecb041549ae23837c8b21c35"
          ]
        },
        "outputId": "2ea7af9d-4661-4258-f285-9e7c9db910b5"
      },
      "execution_count": 20,
      "outputs": [
        {
          "output_type": "display_data",
          "data": {
            "application/vnd.jupyter.widget-view+json": {
              "model_id": "0d86df91dcb54832ab72b309ee0f083c",
              "version_minor": 0,
              "version_major": 2
            },
            "text/plain": [
              "  0%|          | 0/391 [00:00<?, ?it/s]"
            ]
          },
          "metadata": {}
        },
        {
          "output_type": "stream",
          "name": "stderr",
          "text": [
            "/usr/local/lib/python3.7/dist-packages/torch/nn/modules/container.py:141: UserWarning: Implicit dimension choice for softmax has been deprecated. Change the call to include dim=X as an argument.\n",
            "  input = module(input)\n"
          ]
        },
        {
          "output_type": "stream",
          "name": "stdout",
          "text": [
            "0.8578164961636828\n"
          ]
        }
      ]
    },
    {
      "cell_type": "markdown",
      "source": [
        "Результат на тестовой части датасета: \n",
        "\n",
        "**RNN**: 69%\n",
        "\n",
        "**GRU**: 85%\n",
        "\n",
        "Таким образом, мы обучили нейронную сеть распознавать положительные отзывы на фильм и отрицательные с помощью рекурентных нейронных сетей"
      ],
      "metadata": {
        "id": "0I4HGpV-426h"
      }
    },
    {
      "cell_type": "code",
      "source": [
        ""
      ],
      "metadata": {
        "id": "c-M1yXLcVlTd"
      },
      "execution_count": null,
      "outputs": []
    }
  ]
}
